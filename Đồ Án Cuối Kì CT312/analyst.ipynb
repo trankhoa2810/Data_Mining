{
 "cells": [
  {
   "cell_type": "code",
   "execution_count": 1,
   "metadata": {},
   "outputs": [],
   "source": [
    "#Khai báo các thư viện cần thiết\n",
    "import pandas as pd\n",
    "import matplotlib.pyplot as plt\n",
    "import numpy as np"
   ]
  },
  {
   "cell_type": "code",
   "execution_count": 2,
   "metadata": {},
   "outputs": [
    {
     "data": {
      "text/html": [
       "<div>\n",
       "<style scoped>\n",
       "    .dataframe tbody tr th:only-of-type {\n",
       "        vertical-align: middle;\n",
       "    }\n",
       "\n",
       "    .dataframe tbody tr th {\n",
       "        vertical-align: top;\n",
       "    }\n",
       "\n",
       "    .dataframe thead th {\n",
       "        text-align: right;\n",
       "    }\n",
       "</style>\n",
       "<table border=\"1\" class=\"dataframe\">\n",
       "  <thead>\n",
       "    <tr style=\"text-align: right;\">\n",
       "      <th></th>\n",
       "      <th>ciphertext</th>\n",
       "      <th>username</th>\n",
       "      <th>title</th>\n",
       "      <th>description</th>\n",
       "      <th>top_skills</th>\n",
       "      <th>country</th>\n",
       "      <th>city</th>\n",
       "      <th>state</th>\n",
       "      <th>hourly_rate</th>\n",
       "      <th>primary_currency</th>\n",
       "      <th>combinedTotalEarnings</th>\n",
       "      <th>combinedTotalRevenue</th>\n",
       "      <th>totalJobsWorked</th>\n",
       "      <th>totalHourlyJobs</th>\n",
       "    </tr>\n",
       "  </thead>\n",
       "  <tbody>\n",
       "    <tr>\n",
       "      <th>0</th>\n",
       "      <td>~015bfdb6374910f984</td>\n",
       "      <td>Vo N.</td>\n",
       "      <td>Architectural visualization and architectural ...</td>\n",
       "      <td>Dear !\\nMy name is Vo Ny. I live in Vietnam. I...</td>\n",
       "      <td>Autodesk 3ds Max, Autodesk AutoCAD, SketchUp, ...</td>\n",
       "      <td>Vietnam</td>\n",
       "      <td>Ho Chi Minh City</td>\n",
       "      <td>Ho Chi Minh</td>\n",
       "      <td>10.0</td>\n",
       "      <td>USD</td>\n",
       "      <td>NaN</td>\n",
       "      <td>NaN</td>\n",
       "      <td>55</td>\n",
       "      <td>8</td>\n",
       "    </tr>\n",
       "    <tr>\n",
       "      <th>1</th>\n",
       "      <td>~01519c2a9cb37ae905</td>\n",
       "      <td>Cong T.</td>\n",
       "      <td>Expert for PowerPoint | Microsoft</td>\n",
       "      <td>Hello, I’m working as a PowerPoint expert at M...</td>\n",
       "      <td>Microsoft PowerPoint, Presentation Design, Gra...</td>\n",
       "      <td>Vietnam</td>\n",
       "      <td>Hanoi</td>\n",
       "      <td>Tay Ho</td>\n",
       "      <td>30.0</td>\n",
       "      <td>USD</td>\n",
       "      <td>35706.69</td>\n",
       "      <td>31847.09</td>\n",
       "      <td>26</td>\n",
       "      <td>9</td>\n",
       "    </tr>\n",
       "    <tr>\n",
       "      <th>2</th>\n",
       "      <td>~01416d9621d1598e03</td>\n",
       "      <td>Nemanja R.</td>\n",
       "      <td>Expert photoshop retoucher and photographer</td>\n",
       "      <td>I am a longtime photographer as well as a high...</td>\n",
       "      <td>Retouching, Fashion Retouch, Photo Editing, Po...</td>\n",
       "      <td>Vietnam</td>\n",
       "      <td>Ho Chi Minh</td>\n",
       "      <td>Phu Nhuan</td>\n",
       "      <td>20.0</td>\n",
       "      <td>USD</td>\n",
       "      <td>6655.33</td>\n",
       "      <td>5455.58</td>\n",
       "      <td>24</td>\n",
       "      <td>43</td>\n",
       "    </tr>\n",
       "    <tr>\n",
       "      <th>3</th>\n",
       "      <td>~01d1198187badeb489</td>\n",
       "      <td>Bui H.</td>\n",
       "      <td>Vietnamese Translator/ Market Researcher / SEO...</td>\n",
       "      <td>Hello,\\nMy name is Hung from Vietnam.\\nI am wi...</td>\n",
       "      <td>English to Vietnamese Translation, Data Entry,...</td>\n",
       "      <td>Vietnam</td>\n",
       "      <td>Hanoi</td>\n",
       "      <td>NaN</td>\n",
       "      <td>16.0</td>\n",
       "      <td>USD</td>\n",
       "      <td>169935.45</td>\n",
       "      <td>151081.64</td>\n",
       "      <td>583</td>\n",
       "      <td>79</td>\n",
       "    </tr>\n",
       "    <tr>\n",
       "      <th>4</th>\n",
       "      <td>~01ea599f137414da5b</td>\n",
       "      <td>Jenny N.</td>\n",
       "      <td>Professional translation and transcription ser...</td>\n",
       "      <td>A Vietnamese born, British educated young prof...</td>\n",
       "      <td>English to Vietnamese Translation, Microsoft O...</td>\n",
       "      <td>Vietnam</td>\n",
       "      <td>Hanoi</td>\n",
       "      <td>Cau Giay</td>\n",
       "      <td>13.0</td>\n",
       "      <td>USD</td>\n",
       "      <td>1481.95</td>\n",
       "      <td>1186.76</td>\n",
       "      <td>18</td>\n",
       "      <td>3</td>\n",
       "    </tr>\n",
       "  </tbody>\n",
       "</table>\n",
       "</div>"
      ],
      "text/plain": [
       "            ciphertext    username  \\\n",
       "0  ~015bfdb6374910f984       Vo N.   \n",
       "1  ~01519c2a9cb37ae905     Cong T.   \n",
       "2  ~01416d9621d1598e03  Nemanja R.   \n",
       "3  ~01d1198187badeb489      Bui H.   \n",
       "4  ~01ea599f137414da5b    Jenny N.   \n",
       "\n",
       "                                               title  \\\n",
       "0  Architectural visualization and architectural ...   \n",
       "1                  Expert for PowerPoint | Microsoft   \n",
       "2        Expert photoshop retoucher and photographer   \n",
       "3  Vietnamese Translator/ Market Researcher / SEO...   \n",
       "4  Professional translation and transcription ser...   \n",
       "\n",
       "                                         description  \\\n",
       "0  Dear !\\nMy name is Vo Ny. I live in Vietnam. I...   \n",
       "1  Hello, I’m working as a PowerPoint expert at M...   \n",
       "2  I am a longtime photographer as well as a high...   \n",
       "3  Hello,\\nMy name is Hung from Vietnam.\\nI am wi...   \n",
       "4  A Vietnamese born, British educated young prof...   \n",
       "\n",
       "                                          top_skills  country  \\\n",
       "0  Autodesk 3ds Max, Autodesk AutoCAD, SketchUp, ...  Vietnam   \n",
       "1  Microsoft PowerPoint, Presentation Design, Gra...  Vietnam   \n",
       "2  Retouching, Fashion Retouch, Photo Editing, Po...  Vietnam   \n",
       "3  English to Vietnamese Translation, Data Entry,...  Vietnam   \n",
       "4  English to Vietnamese Translation, Microsoft O...  Vietnam   \n",
       "\n",
       "               city        state  hourly_rate primary_currency  \\\n",
       "0  Ho Chi Minh City  Ho Chi Minh         10.0              USD   \n",
       "1             Hanoi       Tay Ho         30.0              USD   \n",
       "2       Ho Chi Minh    Phu Nhuan         20.0              USD   \n",
       "3             Hanoi          NaN         16.0              USD   \n",
       "4             Hanoi     Cau Giay         13.0              USD   \n",
       "\n",
       "   combinedTotalEarnings  combinedTotalRevenue  totalJobsWorked  \\\n",
       "0                    NaN                   NaN               55   \n",
       "1               35706.69              31847.09               26   \n",
       "2                6655.33               5455.58               24   \n",
       "3              169935.45             151081.64              583   \n",
       "4                1481.95               1186.76               18   \n",
       "\n",
       "   totalHourlyJobs  \n",
       "0                8  \n",
       "1                9  \n",
       "2               43  \n",
       "3               79  \n",
       "4                3  "
      ]
     },
     "execution_count": 2,
     "metadata": {},
     "output_type": "execute_result"
    }
   ],
   "source": [
    "# Đọc dữ liệu đã được thu thập từ file supply-vn.csv thông qua thư viện pandas\n",
    "df = pd.read_csv('supply-vn.csv')\n",
    "df.head()"
   ]
  },
  {
   "cell_type": "code",
   "execution_count": 3,
   "metadata": {},
   "outputs": [
    {
     "data": {
      "text/plain": [
       "(1386, 14)"
      ]
     },
     "execution_count": 3,
     "metadata": {},
     "output_type": "execute_result"
    }
   ],
   "source": [
    "# Xem thông tin về số cột và số dòng của tập dữ liệu đã thu thập.\n",
    "df.shape"
   ]
  },
  {
   "cell_type": "code",
   "execution_count": 4,
   "metadata": {},
   "outputs": [
    {
     "name": "stdout",
     "output_type": "stream",
     "text": [
      "<class 'pandas.core.frame.DataFrame'>\n",
      "RangeIndex: 1386 entries, 0 to 1385\n",
      "Data columns (total 14 columns):\n",
      " #   Column                 Non-Null Count  Dtype  \n",
      "---  ------                 --------------  -----  \n",
      " 0   ciphertext             1386 non-null   object \n",
      " 1   username               1386 non-null   object \n",
      " 2   title                  1385 non-null   object \n",
      " 3   description            1385 non-null   object \n",
      " 4   top_skills             1386 non-null   object \n",
      " 5   country                1386 non-null   object \n",
      " 6   city                   1384 non-null   object \n",
      " 7   state                  657 non-null    object \n",
      " 8   hourly_rate            1386 non-null   float64\n",
      " 9   primary_currency       1386 non-null   object \n",
      " 10  combinedTotalEarnings  1326 non-null   float64\n",
      " 11  combinedTotalRevenue   1326 non-null   float64\n",
      " 12  totalJobsWorked        1386 non-null   int64  \n",
      " 13  totalHourlyJobs        1386 non-null   int64  \n",
      "dtypes: float64(3), int64(2), object(9)\n",
      "memory usage: 151.7+ KB\n"
     ]
    }
   ],
   "source": [
    "# Xem thông tin chi tiết về các cột dữ liệu.\n",
    "df.info()"
   ]
  },
  {
   "cell_type": "code",
   "execution_count": 5,
   "metadata": {},
   "outputs": [
    {
     "data": {
      "text/plain": [
       "ciphertext                 0\n",
       "username                   0\n",
       "title                      1\n",
       "description                1\n",
       "top_skills                 0\n",
       "country                    0\n",
       "city                       2\n",
       "state                    729\n",
       "hourly_rate                0\n",
       "primary_currency           0\n",
       "combinedTotalEarnings     60\n",
       "combinedTotalRevenue      60\n",
       "totalJobsWorked            0\n",
       "totalHourlyJobs            0\n",
       "dtype: int64"
      ]
     },
     "execution_count": 5,
     "metadata": {},
     "output_type": "execute_result"
    }
   ],
   "source": [
    "# Kiểm tra dữ liệu bị thiếu của các cột. \n",
    "df.isnull().sum() "
   ]
  },
  {
   "cell_type": "code",
   "execution_count": 6,
   "metadata": {},
   "outputs": [],
   "source": [
    "# Do cột state có quá nhiều dữ liệu bị thiếu (hơn 50%) nên ta loại bỏ cột này.\n",
    "df = df.drop(['state'], axis=1)"
   ]
  },
  {
   "cell_type": "code",
   "execution_count": 7,
   "metadata": {},
   "outputs": [
    {
     "data": {
      "text/plain": [
       "ciphertext                0\n",
       "username                  0\n",
       "title                     1\n",
       "description               1\n",
       "top_skills                0\n",
       "country                   0\n",
       "city                      2\n",
       "hourly_rate               0\n",
       "primary_currency          0\n",
       "combinedTotalEarnings    60\n",
       "combinedTotalRevenue     60\n",
       "totalJobsWorked           0\n",
       "totalHourlyJobs           0\n",
       "dtype: int64"
      ]
     },
     "execution_count": 7,
     "metadata": {},
     "output_type": "execute_result"
    }
   ],
   "source": [
    "# Kiểm tra dữ liệu sau khi đã loại bỏ cột state.\n",
    "df.isnull().sum() "
   ]
  },
  {
   "cell_type": "code",
   "execution_count": 8,
   "metadata": {},
   "outputs": [
    {
     "data": {
      "text/plain": [
       "Ho Chi Minh City    396\n",
       "Hanoi               265\n",
       "Ho Chi Minh         176\n",
       "Da Nang             104\n",
       "Ha Noi              100\n",
       "Nha Trang            20\n",
       "Hue                  19\n",
       "Can Tho              14\n",
       "Bien Hoa             11\n",
       "Danang               10\n",
       "Name: city, dtype: int64"
      ]
     },
     "execution_count": 8,
     "metadata": {},
     "output_type": "execute_result"
    }
   ],
   "source": [
    " #Liệt kê số lượng người làm việc ở 10 tỉnh thành cao nhất.\n",
    "df['city'].value_counts().head(10)"
   ]
  },
  {
   "cell_type": "code",
   "execution_count": 9,
   "metadata": {},
   "outputs": [
    {
     "data": {
      "text/html": [
       "<div>\n",
       "<style scoped>\n",
       "    .dataframe tbody tr th:only-of-type {\n",
       "        vertical-align: middle;\n",
       "    }\n",
       "\n",
       "    .dataframe tbody tr th {\n",
       "        vertical-align: top;\n",
       "    }\n",
       "\n",
       "    .dataframe thead th {\n",
       "        text-align: right;\n",
       "    }\n",
       "</style>\n",
       "<table border=\"1\" class=\"dataframe\">\n",
       "  <thead>\n",
       "    <tr style=\"text-align: right;\">\n",
       "      <th></th>\n",
       "      <th>city</th>\n",
       "    </tr>\n",
       "  </thead>\n",
       "  <tbody>\n",
       "    <tr>\n",
       "      <th>0</th>\n",
       "      <td>Hồ Chí Minh</td>\n",
       "    </tr>\n",
       "    <tr>\n",
       "      <th>1</th>\n",
       "      <td>Hà Nội</td>\n",
       "    </tr>\n",
       "    <tr>\n",
       "      <th>2</th>\n",
       "      <td>Hồ Chí Minh</td>\n",
       "    </tr>\n",
       "    <tr>\n",
       "      <th>3</th>\n",
       "      <td>Hà Nội</td>\n",
       "    </tr>\n",
       "    <tr>\n",
       "      <th>4</th>\n",
       "      <td>Hà Nội</td>\n",
       "    </tr>\n",
       "    <tr>\n",
       "      <th>...</th>\n",
       "      <td>...</td>\n",
       "    </tr>\n",
       "    <tr>\n",
       "      <th>1379</th>\n",
       "      <td>Hà Nội</td>\n",
       "    </tr>\n",
       "    <tr>\n",
       "      <th>1380</th>\n",
       "      <td>Khác</td>\n",
       "    </tr>\n",
       "    <tr>\n",
       "      <th>1381</th>\n",
       "      <td>Hà Nội</td>\n",
       "    </tr>\n",
       "    <tr>\n",
       "      <th>1382</th>\n",
       "      <td>Hồ Chí Minh</td>\n",
       "    </tr>\n",
       "    <tr>\n",
       "      <th>1383</th>\n",
       "      <td>Khác</td>\n",
       "    </tr>\n",
       "  </tbody>\n",
       "</table>\n",
       "<p>1384 rows × 1 columns</p>\n",
       "</div>"
      ],
      "text/plain": [
       "             city\n",
       "0     Hồ Chí Minh\n",
       "1          Hà Nội\n",
       "2     Hồ Chí Minh\n",
       "3          Hà Nội\n",
       "4          Hà Nội\n",
       "...           ...\n",
       "1379       Hà Nội\n",
       "1380         Khác\n",
       "1381       Hà Nội\n",
       "1382  Hồ Chí Minh\n",
       "1383         Khác\n",
       "\n",
       "[1384 rows x 1 columns]"
      ]
     },
     "execution_count": 9,
     "metadata": {},
     "output_type": "execute_result"
    }
   ],
   "source": [
    "# Loại bỏ các giá trị NAN của cột city.\n",
    "df = df.dropna(subset=['city']) \n",
    "\n",
    "# Lấy dữ liệu cột city chuyển hoá thành list để thuận tiện cho quá trình duyệt dữ liệu.\n",
    "citys = df['city'].to_list()\n",
    "\n",
    "# Chuẩn hoá dữ liệu cột thành phố.\n",
    "for idx ,city in enumerate(citys):\n",
    "    city = city.lower()\n",
    "    if city.find('ho chi minh') != -1 or city.find('hcm') != -1 or city.find('hochiminh') != -1:\n",
    "        city = 'Hồ Chí Minh'\n",
    "    elif city.find('ha noi') != -1 or city.find('hn') != -1 or city.find('hanoi') != -1:\n",
    "        city = 'Hà Nội'\n",
    "    elif city.find('da nang') != -1:\n",
    "        city = 'Đà Nẵng'\n",
    "    else: \n",
    "        if city.find('nha trang') != -1:\n",
    "            city = 'Nha Trang'\n",
    "        else: city = 'Khác'\n",
    "    citys[idx] = city\n",
    "citys = pd.DataFrame(citys, columns=['city'])\n",
    "citys"
   ]
  },
  {
   "cell_type": "code",
   "execution_count": 10,
   "metadata": {},
   "outputs": [
    {
     "data": {
      "text/plain": [
       "city       \n",
       "Hồ Chí Minh    618\n",
       "Hà Nội         376\n",
       "Khác           262\n",
       "Đà Nẵng        108\n",
       "Nha Trang       20\n",
       "dtype: int64"
      ]
     },
     "execution_count": 10,
     "metadata": {},
     "output_type": "execute_result"
    }
   ],
   "source": [
    "# Liệt kê số lượng người làm việc ở các tỉnh thành.\n",
    "provinces = citys.value_counts() \n",
    "provinces"
   ]
  },
  {
   "cell_type": "code",
   "execution_count": 11,
   "metadata": {},
   "outputs": [
    {
     "data": {
      "image/png": "[encoded data removed]",
      "text/plain": [
       "<Figure size 432x288 with 1 Axes>"
      ]
     },
     "metadata": {},
     "output_type": "display_data"
    }
   ],
   "source": [
    "# Vẽ biểu đồ tròn thể hiện tỉ lệ phân bố người tìm việc ở khu vực Việt Nam.\n",
    "y = provinces\n",
    "my_labels = ['Hồ Chí Minh', 'Hà Nội', 'Khác', 'Đà Nẵng', 'Nha Trang']\n",
    "plt.pie(y, labels=my_labels, autopct='%1.0f%%')\n",
    "# plt.title(\"Tỉ Lệ Phân Bố Người Tìm Việc Ở Khu Vực Việt Nam.\")\n",
    "plt.show() "
   ]
  },
  {
   "cell_type": "code",
   "execution_count": 12,
   "metadata": {},
   "outputs": [
    {
     "data": {
      "text/plain": [
       "city\n",
       "Hà Nội         18.907340\n",
       "Hồ Chí Minh    20.751345\n",
       "Khác           19.421303\n",
       "Nha Trang      16.275000\n",
       "Đà Nẵng        22.131944\n",
       "Name: hourly_rate, dtype: float64"
      ]
     },
     "execution_count": 12,
     "metadata": {},
     "output_type": "execute_result"
    }
   ],
   "source": [
    "#Gán lại cột citys sau khi đã chuẩn hoá vào lại df ban đầu.\n",
    "df['city'] = citys['city'] \n",
    "\n",
    "# Tính thu nhập bình quân sau 1 giờ làm việc giữa các Tỉnh thành Việt Nam.\n",
    "hourly_rate = df.groupby('city').mean()['hourly_rate'] \n",
    "hourly_rate"
   ]
  },
  {
   "cell_type": "code",
   "execution_count": 13,
   "metadata": {},
   "outputs": [
    {
     "data": {
      "image/png": "[encoded data removed]",
      "text/plain": [
       "<Figure size 432x288 with 1 Axes>"
      ]
     },
     "metadata": {
      "needs_background": "light"
     },
     "output_type": "display_data"
    }
   ],
   "source": [
    "# Vẽ biểu đồ Thu nhập bình quân sau 1 giờ làm việc giữa các Tỉnh thành của Việt Nam.\n",
    "y = ['Hà Nội', 'Hồ Chí Minh', 'Khác', 'Nha Trang', 'Đà Nẵng']\n",
    "x = hourly_rate\n",
    "plt.barh(y, x)\n",
    "plt.xlabel('hourly_rate ($/h)')\n",
    "plt.ylabel('city')\n",
    "plt.title(label='Biểu Đồ Thể Hiện Thu Nhập Bình Quân Sau 1 Giờ Làm Việc Giữai các Tỉnh Thành Của Việt Nam.')\n",
    "plt.show()"
   ]
  },
  {
   "cell_type": "markdown",
   "metadata": {},
   "source": [
    "=> Dựa vào biểu đồ trên cho chúng ta thấy được rằng Đà Nẵng có mức thu nhập cao nhất và Nha Trang có mức thu nhập thấp nhất trong 1 giờ làm việc."
   ]
  },
  {
   "cell_type": "code",
   "execution_count": 14,
   "metadata": {},
   "outputs": [
    {
     "name": "stdout",
     "output_type": "stream",
     "text": [
      "completed_jobs            955\n",
      "without_completed_jobs    429\n",
      "dtype: int64\n"
     ]
    }
   ],
   "source": [
    "# Thống kê số người đã nhận được việc làm và số người không nhận được việc làm.\n",
    "\n",
    "# Khởi tạo biến complted_jobs để đếm số người đã tìm được việc làm.\n",
    "number_person_completed_jobs = 0\n",
    "# Khởi tạo biến complted_jobs để đếm số người chưa tìm được việc làm.\n",
    "number_person_without_completed_jobs = 0\n",
    "\n",
    "# Khởi tạo cột dữ liệu Completed_Jobs để kiểm tra một người có tìm được việc làm hay không.\n",
    "# Nếu đã tìm được việc làm thì gán giá trị 'Yes', ngược lại gán giá trị 'No' vào vị trí tương ứng.\n",
    "\n",
    "# Chuyển kiểu dữ liệu cột Completed_Jobs sang danh sách để tiện cho quá trình duyệt dữ liệu.\n",
    "Completed_Jobs = df['totalJobsWorked'].to_list()\n",
    "for idx, person in enumerate(Completed_Jobs):\n",
    "    if Completed_Jobs[idx] != 0:\n",
    "        number_person_completed_jobs += 1\n",
    "        # Gán giá trị 'Yes' vào vị trí tương ứng vào danh sách duyệt.\n",
    "        Completed_Jobs[idx] = 'Yes' \n",
    "    else: \n",
    "        number_person_without_completed_jobs += 1\n",
    "        # Gán giá trị 'No' vào vị trí tương ứng vào danh sách duyệt.\n",
    "        Completed_Jobs[idx] = 'No'\n",
    "\n",
    "# Sau khi đã duyệt xong danh sách ta tiến hành thêm danh sách vừa duyệt vào cột dữ liệu mới của Dataframe.\n",
    "df['Completed_Jobs'] = Completed_Jobs\n",
    "\n",
    "# Để thuận tiện cho việc vẽ biểu đồ tròn ta tiến hành chuyển hoá dữ liệu về kiểu series.\n",
    "d = {'completed_jobs': number_person_completed_jobs, 'without_completed_jobs': number_person_without_completed_jobs}\n",
    "series = pd.Series(data=d, index=['completed_jobs', 'without_completed_jobs'])\n",
    "print(series)"
   ]
  },
  {
   "cell_type": "code",
   "execution_count": 15,
   "metadata": {},
   "outputs": [
    {
     "data": {
      "image/png": "[encoded data removed]",
      "text/plain": [
       "<Figure size 432x288 with 1 Axes>"
      ]
     },
     "metadata": {},
     "output_type": "display_data"
    }
   ],
   "source": [
    "# Vẽ biểu đồ tròn thể hiện tìm được việc làm trên cả nước.\n",
    "y = series\n",
    "my_labels = ['Completed Jobs', 'Without Completed Jobs']\n",
    "plt.pie(y, labels=my_labels, autopct='%1.0f%%')\n",
    "plt.title(\"Tỉ Lệ Tìm Được Việc Làm Được Việc Làm Trên Cả Nước.\")\n",
    "plt.show() "
   ]
  },
  {
   "cell_type": "markdown",
   "metadata": {},
   "source": [
    "=> Có 31% người không tìm được việc trên nền tảng upwork và 69% số người tìm được việc trên nền tảng này."
   ]
  },
  {
   "cell_type": "code",
   "execution_count": 16,
   "metadata": {},
   "outputs": [
    {
     "data": {
      "image/png": "[encoded data removed]",
      "text/plain": [
       "<Figure size 432x288 with 1 Axes>"
      ]
     },
     "metadata": {
      "needs_background": "light"
     },
     "output_type": "display_data"
    }
   ],
   "source": [
    "# Khởi tạo danh sách các thành phố để duyệt và vẽ biểu đồ.\n",
    "areas = ['Hà Nội', 'Hồ Chí Minh', 'Khác', 'Nha Trang', 'Đà Nẵng']\n",
    "\n",
    "# Khởi tạo một series rỗng\n",
    "series1 = pd.Series(dtype='int64')\n",
    "\n",
    "# Duyệt qua các thành phố và tính số lượng người đã tìm được việc và chưa tìm được việc.\n",
    "for area in areas:\n",
    "    # Khởi tạo hai biến dùng để đếm số người đã hoặc chưa tìm được việc.\n",
    "    completed_jobs = 0\n",
    "    without_completed_jobs = 0\n",
    "    for index, row in df.iterrows():\n",
    "        ''' Kiểm tra mỗi hàng của dữ liệu nếu trùng với thành phố đang xét\n",
    "            và người đó đã tìm được việc thì biến đếm tăng lên 1 và ngược lại.\n",
    "        '''\n",
    "        if (row['city'] == area) and (row['Completed_Jobs'] == 'Yes'):\n",
    "            completed_jobs += 1\n",
    "        elif (row['city'] == area) and (row['Completed_Jobs'] == 'No'):\n",
    "            without_completed_jobs += 1\n",
    "    # Thêm dữ liệu ở mỗi tỉnh thành đã tính ở trên vào series.\n",
    "    d = {'completed_jobs': completed_jobs, 'without_completed_jobs': without_completed_jobs}\n",
    "    ser = pd.Series(data=d, index=['completed_jobs', 'without_completed_jobs'])\n",
    "    # print(ser)\n",
    "    series1 = series1.append(ser)\n",
    "\n",
    "# print(series1)\n",
    "\n",
    "# Vẽ biểu đồ.\n",
    "X_axis = np.arange(len(areas))\n",
    "  \n",
    "plt.bar(X_axis - 0.2, series1['completed_jobs'], 0.4, label = 'Completed Jobs')\n",
    "plt.bar(X_axis + 0.2, series1['without_completed_jobs'], 0.4, label = 'Without Completed Jobs')\n",
    "plt.xticks(X_axis, areas)\n",
    "plt.xlabel(\"Provinces\")\n",
    "plt.ylabel(\"Amount of people\")\n",
    "# plt.title(\"Number of people who have not found a job\")\n",
    "plt.legend()\n",
    "plt.show()"
   ]
  }
 ],
 "metadata": {
  "interpreter": {
   "hash": "7de7ad37ff8f9fc343f00574b7746668dd22d7d52520a8dc25e4eb7f0bb0d64a"
  },
  "kernelspec": {
   "display_name": "Python 3 (ipykernel)",
   "language": "python",
   "name": "python3"
  },
  "language_info": {
   "codemirror_mode": {
    "name": "ipython",
    "version": 3
   },
   "file_extension": ".py",
   "mimetype": "text/x-python",
   "name": "python",
   "nbconvert_exporter": "python",
   "pygments_lexer": "ipython3",
   "version": "3.8.6"
  }
 },
 "nbformat": 4,
 "nbformat_minor": 2
}
